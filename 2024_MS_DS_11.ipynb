{
  "cells": [
    {
      "cell_type": "markdown",
      "metadata": {
        "id": "view-in-github",
        "colab_type": "text"
      },
      "source": [
        "<a href=\"https://colab.research.google.com/github/laibaabbas/2024-MS-DS-11/blob/main/2024_MS_DS_11.ipynb\" target=\"_parent\"><img src=\"https://colab.research.google.com/assets/colab-badge.svg\" alt=\"Open In Colab\"/></a>"
      ]
    },
    {
      "cell_type": "markdown",
      "metadata": {
        "id": "9HYKQFUbTX8V"
      },
      "source": [
        "# Activity: Explore descriptive statistics"
      ],
      "id": "9HYKQFUbTX8V"
    },
    {
      "cell_type": "markdown",
      "metadata": {
        "id": "ee31943b-274e-4c28-bce6-155cb6f4c334"
      },
      "source": [
        "## **Introduction**\n",
        "\n",
        "Data professionals often use descriptive statistics to understand the data they are working with and provide collaborators with a summary of the relative location of values in the data, as well an information about its spread.\n",
        "\n",
        "For this activity, you are a member of an analytics team for the United States Environmental Protection Agency (EPA). You are assigned to analyze data on air quality with respect to carbon monoxide, a major air pollutant. The data includes information from more than 200 sites, identified by state, county, city, and local site names. You will use Python functions to gather statistics about air quality, then share insights with stakeholders."
      ],
      "id": "ee31943b-274e-4c28-bce6-155cb6f4c334"
    },
    {
      "cell_type": "markdown",
      "metadata": {
        "id": "4bb9630e-b940-4835-a389-d39def1fa848"
      },
      "source": [
        "## **Step 1: Imports**\n"
      ],
      "id": "4bb9630e-b940-4835-a389-d39def1fa848"
    },
    {
      "cell_type": "markdown",
      "metadata": {
        "id": "bc180686-4ae2-47ea-a292-3588ac60a820"
      },
      "source": [
        "Import the relevant Python libraries `pandas` and `numpy`."
      ],
      "id": "bc180686-4ae2-47ea-a292-3588ac60a820"
    },
    {
      "cell_type": "code",
      "execution_count": null,
      "metadata": {
        "id": "8e7f1f2c-bbcc-4f3c-b927-b090ee8334c4"
      },
      "outputs": [],
      "source": [
        "# Import relevant Python libraries.\n",
        "\n",
        "### YOUR CODE HERE ###\n",
        "import pandas as pd\n",
        "\n",
        "import numpy as np"
      ],
      "id": "8e7f1f2c-bbcc-4f3c-b927-b090ee8334c4"
    },
    {
      "cell_type": "markdown",
      "metadata": {
        "id": "7d29c6bd-f194-46bb-b794-56dc20130473"
      },
      "source": [
        "The dataset provided is in the form of a .csv file named `c4_epa_air_quality.csv`. It contains a susbet of data from the U.S. EPA. As shown in this cell, the dataset has been automatically loaded in for you. You do not need to download the .csv file, or provide more code, in order to access the dataset and proceed with this lab. Please continue with this activity by completing the following instructions."
      ],
      "id": "7d29c6bd-f194-46bb-b794-56dc20130473"
    },
    {
      "cell_type": "code",
      "execution_count": null,
      "metadata": {
        "id": "3bd40d44-080f-4e49-b0c2-160dedc3c4df"
      },
      "outputs": [],
      "source": [
        "# RUN THIS CELL TO IMPORT YOUR DATA.\n",
        "\n",
        "### YOUR CODE HERE\n",
        "epa_data = pd.read_csv(\"/content/c4_epa_air_quality.csv\",index_col=0)"
      ],
      "id": "3bd40d44-080f-4e49-b0c2-160dedc3c4df"
    },
    {
      "cell_type": "markdown",
      "metadata": {
        "id": "ptkclWFzHjHv",
        "jp-MarkdownHeadingCollapsed": true,
        "tags": []
      },
      "source": [
        "<details>\n",
        "  <summary><h4><strong>Hint</strong></h4></summary>\n",
        "\n",
        "  Use the `read_csv` function from the pandas `library`. The `index_col` parameter can be set to `0` to read in the first column as an index (and to avoid `\"Unnamed: 0\"` appearing as a column in the resulting DataFrame).\n",
        "\n",
        "</details>"
      ],
      "id": "ptkclWFzHjHv"
    },
    {
      "cell_type": "markdown",
      "metadata": {
        "id": "95bf39c9-d05c-4324-a40b-bc692607b61b"
      },
      "source": [
        "## **Step 2: Data exploration**"
      ],
      "id": "95bf39c9-d05c-4324-a40b-bc692607b61b"
    },
    {
      "cell_type": "markdown",
      "metadata": {
        "id": "26561614-8e9b-4840-8dbf-b50131ae5314",
        "tags": []
      },
      "source": [
        "To understand how the dataset is structured, display the first 10 rows of the data."
      ],
      "id": "26561614-8e9b-4840-8dbf-b50131ae5314"
    },
    {
      "cell_type": "code",
      "execution_count": null,
      "metadata": {
        "id": "ad5210a5-7a64-4991-b004-de818cfaf506",
        "colab": {
          "base_uri": "https://localhost:8080/",
          "height": 452
        },
        "outputId": "4a3d566e-9174-49bf-da83-972b2467a228"
      },
      "outputs": [
        {
          "output_type": "execute_result",
          "data": {
            "text/plain": [
              "   date_local    state_name   county_name      city_name  \\\n",
              "0  2018-01-01       Arizona      Maricopa        Buckeye   \n",
              "1  2018-01-01          Ohio       Belmont      Shadyside   \n",
              "2  2018-01-01       Wyoming         Teton  Not in a city   \n",
              "3  2018-01-01  Pennsylvania  Philadelphia   Philadelphia   \n",
              "4  2018-01-01          Iowa          Polk     Des Moines   \n",
              "5  2018-01-01        Hawaii      Honolulu  Not in a city   \n",
              "6  2018-01-01        Hawaii      Honolulu  Not in a city   \n",
              "7  2018-01-01  Pennsylvania          Erie           Erie   \n",
              "8  2018-01-01        Hawaii      Honolulu       Honolulu   \n",
              "9  2018-01-01      Colorado       Larimer   Fort Collins   \n",
              "\n",
              "                                     local_site_name   parameter_name  \\\n",
              "0                                            BUCKEYE  Carbon monoxide   \n",
              "1                                          Shadyside  Carbon monoxide   \n",
              "2  Yellowstone National Park - Old Faithful Snow ...  Carbon monoxide   \n",
              "3                             North East Waste (NEW)  Carbon monoxide   \n",
              "4                                          CARPENTER  Carbon monoxide   \n",
              "5                                            Kapolei  Carbon monoxide   \n",
              "6                                            Kapolei  Carbon monoxide   \n",
              "7                                                NaN  Carbon monoxide   \n",
              "8                                           Honolulu  Carbon monoxide   \n",
              "9                      Fort Collins - CSU - S. Mason  Carbon monoxide   \n",
              "\n",
              "    units_of_measure  arithmetic_mean  aqi  \n",
              "0  Parts per million         0.473684    7  \n",
              "1  Parts per million         0.263158    5  \n",
              "2  Parts per million         0.111111    2  \n",
              "3  Parts per million         0.300000    3  \n",
              "4  Parts per million         0.215789    3  \n",
              "5  Parts per million         0.994737   14  \n",
              "6  Parts per million         0.200000    2  \n",
              "7  Parts per million         0.200000    2  \n",
              "8  Parts per million         0.400000    5  \n",
              "9  Parts per million         0.300000    6  "
            ],
            "text/html": [
              "\n",
              "  <div id=\"df-08b60e03-edba-4042-b398-d800f90c6fb0\" class=\"colab-df-container\">\n",
              "    <div>\n",
              "<style scoped>\n",
              "    .dataframe tbody tr th:only-of-type {\n",
              "        vertical-align: middle;\n",
              "    }\n",
              "\n",
              "    .dataframe tbody tr th {\n",
              "        vertical-align: top;\n",
              "    }\n",
              "\n",
              "    .dataframe thead th {\n",
              "        text-align: right;\n",
              "    }\n",
              "</style>\n",
              "<table border=\"1\" class=\"dataframe\">\n",
              "  <thead>\n",
              "    <tr style=\"text-align: right;\">\n",
              "      <th></th>\n",
              "      <th>date_local</th>\n",
              "      <th>state_name</th>\n",
              "      <th>county_name</th>\n",
              "      <th>city_name</th>\n",
              "      <th>local_site_name</th>\n",
              "      <th>parameter_name</th>\n",
              "      <th>units_of_measure</th>\n",
              "      <th>arithmetic_mean</th>\n",
              "      <th>aqi</th>\n",
              "    </tr>\n",
              "  </thead>\n",
              "  <tbody>\n",
              "    <tr>\n",
              "      <th>0</th>\n",
              "      <td>2018-01-01</td>\n",
              "      <td>Arizona</td>\n",
              "      <td>Maricopa</td>\n",
              "      <td>Buckeye</td>\n",
              "      <td>BUCKEYE</td>\n",
              "      <td>Carbon monoxide</td>\n",
              "      <td>Parts per million</td>\n",
              "      <td>0.473684</td>\n",
              "      <td>7</td>\n",
              "    </tr>\n",
              "    <tr>\n",
              "      <th>1</th>\n",
              "      <td>2018-01-01</td>\n",
              "      <td>Ohio</td>\n",
              "      <td>Belmont</td>\n",
              "      <td>Shadyside</td>\n",
              "      <td>Shadyside</td>\n",
              "      <td>Carbon monoxide</td>\n",
              "      <td>Parts per million</td>\n",
              "      <td>0.263158</td>\n",
              "      <td>5</td>\n",
              "    </tr>\n",
              "    <tr>\n",
              "      <th>2</th>\n",
              "      <td>2018-01-01</td>\n",
              "      <td>Wyoming</td>\n",
              "      <td>Teton</td>\n",
              "      <td>Not in a city</td>\n",
              "      <td>Yellowstone National Park - Old Faithful Snow ...</td>\n",
              "      <td>Carbon monoxide</td>\n",
              "      <td>Parts per million</td>\n",
              "      <td>0.111111</td>\n",
              "      <td>2</td>\n",
              "    </tr>\n",
              "    <tr>\n",
              "      <th>3</th>\n",
              "      <td>2018-01-01</td>\n",
              "      <td>Pennsylvania</td>\n",
              "      <td>Philadelphia</td>\n",
              "      <td>Philadelphia</td>\n",
              "      <td>North East Waste (NEW)</td>\n",
              "      <td>Carbon monoxide</td>\n",
              "      <td>Parts per million</td>\n",
              "      <td>0.300000</td>\n",
              "      <td>3</td>\n",
              "    </tr>\n",
              "    <tr>\n",
              "      <th>4</th>\n",
              "      <td>2018-01-01</td>\n",
              "      <td>Iowa</td>\n",
              "      <td>Polk</td>\n",
              "      <td>Des Moines</td>\n",
              "      <td>CARPENTER</td>\n",
              "      <td>Carbon monoxide</td>\n",
              "      <td>Parts per million</td>\n",
              "      <td>0.215789</td>\n",
              "      <td>3</td>\n",
              "    </tr>\n",
              "    <tr>\n",
              "      <th>5</th>\n",
              "      <td>2018-01-01</td>\n",
              "      <td>Hawaii</td>\n",
              "      <td>Honolulu</td>\n",
              "      <td>Not in a city</td>\n",
              "      <td>Kapolei</td>\n",
              "      <td>Carbon monoxide</td>\n",
              "      <td>Parts per million</td>\n",
              "      <td>0.994737</td>\n",
              "      <td>14</td>\n",
              "    </tr>\n",
              "    <tr>\n",
              "      <th>6</th>\n",
              "      <td>2018-01-01</td>\n",
              "      <td>Hawaii</td>\n",
              "      <td>Honolulu</td>\n",
              "      <td>Not in a city</td>\n",
              "      <td>Kapolei</td>\n",
              "      <td>Carbon monoxide</td>\n",
              "      <td>Parts per million</td>\n",
              "      <td>0.200000</td>\n",
              "      <td>2</td>\n",
              "    </tr>\n",
              "    <tr>\n",
              "      <th>7</th>\n",
              "      <td>2018-01-01</td>\n",
              "      <td>Pennsylvania</td>\n",
              "      <td>Erie</td>\n",
              "      <td>Erie</td>\n",
              "      <td>NaN</td>\n",
              "      <td>Carbon monoxide</td>\n",
              "      <td>Parts per million</td>\n",
              "      <td>0.200000</td>\n",
              "      <td>2</td>\n",
              "    </tr>\n",
              "    <tr>\n",
              "      <th>8</th>\n",
              "      <td>2018-01-01</td>\n",
              "      <td>Hawaii</td>\n",
              "      <td>Honolulu</td>\n",
              "      <td>Honolulu</td>\n",
              "      <td>Honolulu</td>\n",
              "      <td>Carbon monoxide</td>\n",
              "      <td>Parts per million</td>\n",
              "      <td>0.400000</td>\n",
              "      <td>5</td>\n",
              "    </tr>\n",
              "    <tr>\n",
              "      <th>9</th>\n",
              "      <td>2018-01-01</td>\n",
              "      <td>Colorado</td>\n",
              "      <td>Larimer</td>\n",
              "      <td>Fort Collins</td>\n",
              "      <td>Fort Collins - CSU - S. Mason</td>\n",
              "      <td>Carbon monoxide</td>\n",
              "      <td>Parts per million</td>\n",
              "      <td>0.300000</td>\n",
              "      <td>6</td>\n",
              "    </tr>\n",
              "  </tbody>\n",
              "</table>\n",
              "</div>\n",
              "    <div class=\"colab-df-buttons\">\n",
              "\n",
              "  <div class=\"colab-df-container\">\n",
              "    <button class=\"colab-df-convert\" onclick=\"convertToInteractive('df-08b60e03-edba-4042-b398-d800f90c6fb0')\"\n",
              "            title=\"Convert this dataframe to an interactive table.\"\n",
              "            style=\"display:none;\">\n",
              "\n",
              "  <svg xmlns=\"http://www.w3.org/2000/svg\" height=\"24px\" viewBox=\"0 -960 960 960\">\n",
              "    <path d=\"M120-120v-720h720v720H120Zm60-500h600v-160H180v160Zm220 220h160v-160H400v160Zm0 220h160v-160H400v160ZM180-400h160v-160H180v160Zm440 0h160v-160H620v160ZM180-180h160v-160H180v160Zm440 0h160v-160H620v160Z\"/>\n",
              "  </svg>\n",
              "    </button>\n",
              "\n",
              "  <style>\n",
              "    .colab-df-container {\n",
              "      display:flex;\n",
              "      gap: 12px;\n",
              "    }\n",
              "\n",
              "    .colab-df-convert {\n",
              "      background-color: #E8F0FE;\n",
              "      border: none;\n",
              "      border-radius: 50%;\n",
              "      cursor: pointer;\n",
              "      display: none;\n",
              "      fill: #1967D2;\n",
              "      height: 32px;\n",
              "      padding: 0 0 0 0;\n",
              "      width: 32px;\n",
              "    }\n",
              "\n",
              "    .colab-df-convert:hover {\n",
              "      background-color: #E2EBFA;\n",
              "      box-shadow: 0px 1px 2px rgba(60, 64, 67, 0.3), 0px 1px 3px 1px rgba(60, 64, 67, 0.15);\n",
              "      fill: #174EA6;\n",
              "    }\n",
              "\n",
              "    .colab-df-buttons div {\n",
              "      margin-bottom: 4px;\n",
              "    }\n",
              "\n",
              "    [theme=dark] .colab-df-convert {\n",
              "      background-color: #3B4455;\n",
              "      fill: #D2E3FC;\n",
              "    }\n",
              "\n",
              "    [theme=dark] .colab-df-convert:hover {\n",
              "      background-color: #434B5C;\n",
              "      box-shadow: 0px 1px 3px 1px rgba(0, 0, 0, 0.15);\n",
              "      filter: drop-shadow(0px 1px 2px rgba(0, 0, 0, 0.3));\n",
              "      fill: #FFFFFF;\n",
              "    }\n",
              "  </style>\n",
              "\n",
              "    <script>\n",
              "      const buttonEl =\n",
              "        document.querySelector('#df-08b60e03-edba-4042-b398-d800f90c6fb0 button.colab-df-convert');\n",
              "      buttonEl.style.display =\n",
              "        google.colab.kernel.accessAllowed ? 'block' : 'none';\n",
              "\n",
              "      async function convertToInteractive(key) {\n",
              "        const element = document.querySelector('#df-08b60e03-edba-4042-b398-d800f90c6fb0');\n",
              "        const dataTable =\n",
              "          await google.colab.kernel.invokeFunction('convertToInteractive',\n",
              "                                                    [key], {});\n",
              "        if (!dataTable) return;\n",
              "\n",
              "        const docLinkHtml = 'Like what you see? Visit the ' +\n",
              "          '<a target=\"_blank\" href=https://colab.research.google.com/notebooks/data_table.ipynb>data table notebook</a>'\n",
              "          + ' to learn more about interactive tables.';\n",
              "        element.innerHTML = '';\n",
              "        dataTable['output_type'] = 'display_data';\n",
              "        await google.colab.output.renderOutput(dataTable, element);\n",
              "        const docLink = document.createElement('div');\n",
              "        docLink.innerHTML = docLinkHtml;\n",
              "        element.appendChild(docLink);\n",
              "      }\n",
              "    </script>\n",
              "  </div>\n",
              "\n",
              "\n",
              "<div id=\"df-03918c6f-6192-4246-ac2a-4bdf599b7a0f\">\n",
              "  <button class=\"colab-df-quickchart\" onclick=\"quickchart('df-03918c6f-6192-4246-ac2a-4bdf599b7a0f')\"\n",
              "            title=\"Suggest charts\"\n",
              "            style=\"display:none;\">\n",
              "\n",
              "<svg xmlns=\"http://www.w3.org/2000/svg\" height=\"24px\"viewBox=\"0 0 24 24\"\n",
              "     width=\"24px\">\n",
              "    <g>\n",
              "        <path d=\"M19 3H5c-1.1 0-2 .9-2 2v14c0 1.1.9 2 2 2h14c1.1 0 2-.9 2-2V5c0-1.1-.9-2-2-2zM9 17H7v-7h2v7zm4 0h-2V7h2v10zm4 0h-2v-4h2v4z\"/>\n",
              "    </g>\n",
              "</svg>\n",
              "  </button>\n",
              "\n",
              "<style>\n",
              "  .colab-df-quickchart {\n",
              "      --bg-color: #E8F0FE;\n",
              "      --fill-color: #1967D2;\n",
              "      --hover-bg-color: #E2EBFA;\n",
              "      --hover-fill-color: #174EA6;\n",
              "      --disabled-fill-color: #AAA;\n",
              "      --disabled-bg-color: #DDD;\n",
              "  }\n",
              "\n",
              "  [theme=dark] .colab-df-quickchart {\n",
              "      --bg-color: #3B4455;\n",
              "      --fill-color: #D2E3FC;\n",
              "      --hover-bg-color: #434B5C;\n",
              "      --hover-fill-color: #FFFFFF;\n",
              "      --disabled-bg-color: #3B4455;\n",
              "      --disabled-fill-color: #666;\n",
              "  }\n",
              "\n",
              "  .colab-df-quickchart {\n",
              "    background-color: var(--bg-color);\n",
              "    border: none;\n",
              "    border-radius: 50%;\n",
              "    cursor: pointer;\n",
              "    display: none;\n",
              "    fill: var(--fill-color);\n",
              "    height: 32px;\n",
              "    padding: 0;\n",
              "    width: 32px;\n",
              "  }\n",
              "\n",
              "  .colab-df-quickchart:hover {\n",
              "    background-color: var(--hover-bg-color);\n",
              "    box-shadow: 0 1px 2px rgba(60, 64, 67, 0.3), 0 1px 3px 1px rgba(60, 64, 67, 0.15);\n",
              "    fill: var(--button-hover-fill-color);\n",
              "  }\n",
              "\n",
              "  .colab-df-quickchart-complete:disabled,\n",
              "  .colab-df-quickchart-complete:disabled:hover {\n",
              "    background-color: var(--disabled-bg-color);\n",
              "    fill: var(--disabled-fill-color);\n",
              "    box-shadow: none;\n",
              "  }\n",
              "\n",
              "  .colab-df-spinner {\n",
              "    border: 2px solid var(--fill-color);\n",
              "    border-color: transparent;\n",
              "    border-bottom-color: var(--fill-color);\n",
              "    animation:\n",
              "      spin 1s steps(1) infinite;\n",
              "  }\n",
              "\n",
              "  @keyframes spin {\n",
              "    0% {\n",
              "      border-color: transparent;\n",
              "      border-bottom-color: var(--fill-color);\n",
              "      border-left-color: var(--fill-color);\n",
              "    }\n",
              "    20% {\n",
              "      border-color: transparent;\n",
              "      border-left-color: var(--fill-color);\n",
              "      border-top-color: var(--fill-color);\n",
              "    }\n",
              "    30% {\n",
              "      border-color: transparent;\n",
              "      border-left-color: var(--fill-color);\n",
              "      border-top-color: var(--fill-color);\n",
              "      border-right-color: var(--fill-color);\n",
              "    }\n",
              "    40% {\n",
              "      border-color: transparent;\n",
              "      border-right-color: var(--fill-color);\n",
              "      border-top-color: var(--fill-color);\n",
              "    }\n",
              "    60% {\n",
              "      border-color: transparent;\n",
              "      border-right-color: var(--fill-color);\n",
              "    }\n",
              "    80% {\n",
              "      border-color: transparent;\n",
              "      border-right-color: var(--fill-color);\n",
              "      border-bottom-color: var(--fill-color);\n",
              "    }\n",
              "    90% {\n",
              "      border-color: transparent;\n",
              "      border-bottom-color: var(--fill-color);\n",
              "    }\n",
              "  }\n",
              "</style>\n",
              "\n",
              "  <script>\n",
              "    async function quickchart(key) {\n",
              "      const quickchartButtonEl =\n",
              "        document.querySelector('#' + key + ' button');\n",
              "      quickchartButtonEl.disabled = true;  // To prevent multiple clicks.\n",
              "      quickchartButtonEl.classList.add('colab-df-spinner');\n",
              "      try {\n",
              "        const charts = await google.colab.kernel.invokeFunction(\n",
              "            'suggestCharts', [key], {});\n",
              "      } catch (error) {\n",
              "        console.error('Error during call to suggestCharts:', error);\n",
              "      }\n",
              "      quickchartButtonEl.classList.remove('colab-df-spinner');\n",
              "      quickchartButtonEl.classList.add('colab-df-quickchart-complete');\n",
              "    }\n",
              "    (() => {\n",
              "      let quickchartButtonEl =\n",
              "        document.querySelector('#df-03918c6f-6192-4246-ac2a-4bdf599b7a0f button');\n",
              "      quickchartButtonEl.style.display =\n",
              "        google.colab.kernel.accessAllowed ? 'block' : 'none';\n",
              "    })();\n",
              "  </script>\n",
              "</div>\n",
              "\n",
              "    </div>\n",
              "  </div>\n"
            ],
            "application/vnd.google.colaboratory.intrinsic+json": {
              "type": "dataframe",
              "variable_name": "epa_data",
              "summary": "{\n  \"name\": \"epa_data\",\n  \"rows\": 260,\n  \"fields\": [\n    {\n      \"column\": \"date_local\",\n      \"properties\": {\n        \"dtype\": \"object\",\n        \"num_unique_values\": 1,\n        \"samples\": [\n          \"2018-01-01\"\n        ],\n        \"semantic_type\": \"\",\n        \"description\": \"\"\n      }\n    },\n    {\n      \"column\": \"state_name\",\n      \"properties\": {\n        \"dtype\": \"category\",\n        \"num_unique_values\": 52,\n        \"samples\": [\n          \"New Jersey\"\n        ],\n        \"semantic_type\": \"\",\n        \"description\": \"\"\n      }\n    },\n    {\n      \"column\": \"county_name\",\n      \"properties\": {\n        \"dtype\": \"string\",\n        \"num_unique_values\": 149,\n        \"samples\": [\n          \"El Paso\"\n        ],\n        \"semantic_type\": \"\",\n        \"description\": \"\"\n      }\n    },\n    {\n      \"column\": \"city_name\",\n      \"properties\": {\n        \"dtype\": \"string\",\n        \"num_unique_values\": 190,\n        \"samples\": [\n          \"Valrico\"\n        ],\n        \"semantic_type\": \"\",\n        \"description\": \"\"\n      }\n    },\n    {\n      \"column\": \"local_site_name\",\n      \"properties\": {\n        \"dtype\": \"string\",\n        \"num_unique_values\": 253,\n        \"samples\": [\n          \"Los Flores Canyon #1\"\n        ],\n        \"semantic_type\": \"\",\n        \"description\": \"\"\n      }\n    },\n    {\n      \"column\": \"parameter_name\",\n      \"properties\": {\n        \"dtype\": \"category\",\n        \"num_unique_values\": 1,\n        \"samples\": [\n          \"Carbon monoxide\"\n        ],\n        \"semantic_type\": \"\",\n        \"description\": \"\"\n      }\n    },\n    {\n      \"column\": \"units_of_measure\",\n      \"properties\": {\n        \"dtype\": \"category\",\n        \"num_unique_values\": 1,\n        \"samples\": [\n          \"Parts per million\"\n        ],\n        \"semantic_type\": \"\",\n        \"description\": \"\"\n      }\n    },\n    {\n      \"column\": \"arithmetic_mean\",\n      \"properties\": {\n        \"dtype\": \"number\",\n        \"std\": 0.3179017834023353,\n        \"min\": 0.0,\n        \"max\": 1.921053,\n        \"num_unique_values\": 150,\n        \"samples\": [\n          0.131579\n        ],\n        \"semantic_type\": \"\",\n        \"description\": \"\"\n      }\n    },\n    {\n      \"column\": \"aqi\",\n      \"properties\": {\n        \"dtype\": \"number\",\n        \"std\": 7,\n        \"min\": 0,\n        \"max\": 50,\n        \"num_unique_values\": 29,\n        \"samples\": [\n          28\n        ],\n        \"semantic_type\": \"\",\n        \"description\": \"\"\n      }\n    }\n  ]\n}"
            }
          },
          "metadata": {},
          "execution_count": 12
        }
      ],
      "source": [
        "# Display first 10 rows of the data.\n",
        "\n",
        "### YOUR CODE HERE\n",
        "\n",
        "epa_data.head(10)\n"
      ],
      "id": "ad5210a5-7a64-4991-b004-de818cfaf506"
    },
    {
      "cell_type": "markdown",
      "metadata": {
        "id": "rUiFGOUDIA-m",
        "jp-MarkdownHeadingCollapsed": true,
        "tags": []
      },
      "source": [
        "<details>\n",
        "  <summary><h4><strong>Hint</strong></h4></summary>\n",
        "\n",
        "  Use the `head()` function from the `pandas` library.\n",
        "\n",
        "</details>"
      ],
      "id": "rUiFGOUDIA-m"
    },
    {
      "cell_type": "markdown",
      "metadata": {
        "id": "fb45ed17-5e22-4d48-9750-130a8586bbf9",
        "tags": []
      },
      "source": [
        "**Question:** What does the `aqi` column represent?"
      ],
      "id": "fb45ed17-5e22-4d48-9750-130a8586bbf9"
    },
    {
      "cell_type": "markdown",
      "metadata": {
        "id": "MlpXJ36xpBFP"
      },
      "source": [
        "**The aqi column represents the Air Quality Index for each observation, which provides a standardized measure of air pollution levels. Lower values indicate better air quality, while higher values correspond to worse air quality. For example, an AQI of 7 or 5 indicates low levels of pollution, whereas higher numbers (above 100) would indicate unhealthy levels**"
      ],
      "id": "MlpXJ36xpBFP"
    },
    {
      "cell_type": "markdown",
      "metadata": {
        "id": "7dac147e-19e1-49e7-bd80-e122390c3a70",
        "tags": []
      },
      "source": [
        "Now, get a table that contains some descriptive statistics about the data."
      ],
      "id": "7dac147e-19e1-49e7-bd80-e122390c3a70"
    },
    {
      "cell_type": "code",
      "execution_count": null,
      "metadata": {
        "id": "13f1c1dd-5637-4726-8fa0-2fbd838e4afa",
        "colab": {
          "base_uri": "https://localhost:8080/",
          "height": 300
        },
        "outputId": "abbcf1b1-15d2-4e31-8179-c2091f8ec64a"
      },
      "outputs": [
        {
          "output_type": "execute_result",
          "data": {
            "text/plain": [
              "       arithmetic_mean         aqi\n",
              "count       260.000000  260.000000\n",
              "mean          0.403169    6.757692\n",
              "std           0.317902    7.061707\n",
              "min           0.000000    0.000000\n",
              "25%           0.200000    2.000000\n",
              "50%           0.276315    5.000000\n",
              "75%           0.516009    9.000000\n",
              "max           1.921053   50.000000"
            ],
            "text/html": [
              "\n",
              "  <div id=\"df-8d7c02e3-4459-4776-930d-c81aa8bac2de\" class=\"colab-df-container\">\n",
              "    <div>\n",
              "<style scoped>\n",
              "    .dataframe tbody tr th:only-of-type {\n",
              "        vertical-align: middle;\n",
              "    }\n",
              "\n",
              "    .dataframe tbody tr th {\n",
              "        vertical-align: top;\n",
              "    }\n",
              "\n",
              "    .dataframe thead th {\n",
              "        text-align: right;\n",
              "    }\n",
              "</style>\n",
              "<table border=\"1\" class=\"dataframe\">\n",
              "  <thead>\n",
              "    <tr style=\"text-align: right;\">\n",
              "      <th></th>\n",
              "      <th>arithmetic_mean</th>\n",
              "      <th>aqi</th>\n",
              "    </tr>\n",
              "  </thead>\n",
              "  <tbody>\n",
              "    <tr>\n",
              "      <th>count</th>\n",
              "      <td>260.000000</td>\n",
              "      <td>260.000000</td>\n",
              "    </tr>\n",
              "    <tr>\n",
              "      <th>mean</th>\n",
              "      <td>0.403169</td>\n",
              "      <td>6.757692</td>\n",
              "    </tr>\n",
              "    <tr>\n",
              "      <th>std</th>\n",
              "      <td>0.317902</td>\n",
              "      <td>7.061707</td>\n",
              "    </tr>\n",
              "    <tr>\n",
              "      <th>min</th>\n",
              "      <td>0.000000</td>\n",
              "      <td>0.000000</td>\n",
              "    </tr>\n",
              "    <tr>\n",
              "      <th>25%</th>\n",
              "      <td>0.200000</td>\n",
              "      <td>2.000000</td>\n",
              "    </tr>\n",
              "    <tr>\n",
              "      <th>50%</th>\n",
              "      <td>0.276315</td>\n",
              "      <td>5.000000</td>\n",
              "    </tr>\n",
              "    <tr>\n",
              "      <th>75%</th>\n",
              "      <td>0.516009</td>\n",
              "      <td>9.000000</td>\n",
              "    </tr>\n",
              "    <tr>\n",
              "      <th>max</th>\n",
              "      <td>1.921053</td>\n",
              "      <td>50.000000</td>\n",
              "    </tr>\n",
              "  </tbody>\n",
              "</table>\n",
              "</div>\n",
              "    <div class=\"colab-df-buttons\">\n",
              "\n",
              "  <div class=\"colab-df-container\">\n",
              "    <button class=\"colab-df-convert\" onclick=\"convertToInteractive('df-8d7c02e3-4459-4776-930d-c81aa8bac2de')\"\n",
              "            title=\"Convert this dataframe to an interactive table.\"\n",
              "            style=\"display:none;\">\n",
              "\n",
              "  <svg xmlns=\"http://www.w3.org/2000/svg\" height=\"24px\" viewBox=\"0 -960 960 960\">\n",
              "    <path d=\"M120-120v-720h720v720H120Zm60-500h600v-160H180v160Zm220 220h160v-160H400v160Zm0 220h160v-160H400v160ZM180-400h160v-160H180v160Zm440 0h160v-160H620v160ZM180-180h160v-160H180v160Zm440 0h160v-160H620v160Z\"/>\n",
              "  </svg>\n",
              "    </button>\n",
              "\n",
              "  <style>\n",
              "    .colab-df-container {\n",
              "      display:flex;\n",
              "      gap: 12px;\n",
              "    }\n",
              "\n",
              "    .colab-df-convert {\n",
              "      background-color: #E8F0FE;\n",
              "      border: none;\n",
              "      border-radius: 50%;\n",
              "      cursor: pointer;\n",
              "      display: none;\n",
              "      fill: #1967D2;\n",
              "      height: 32px;\n",
              "      padding: 0 0 0 0;\n",
              "      width: 32px;\n",
              "    }\n",
              "\n",
              "    .colab-df-convert:hover {\n",
              "      background-color: #E2EBFA;\n",
              "      box-shadow: 0px 1px 2px rgba(60, 64, 67, 0.3), 0px 1px 3px 1px rgba(60, 64, 67, 0.15);\n",
              "      fill: #174EA6;\n",
              "    }\n",
              "\n",
              "    .colab-df-buttons div {\n",
              "      margin-bottom: 4px;\n",
              "    }\n",
              "\n",
              "    [theme=dark] .colab-df-convert {\n",
              "      background-color: #3B4455;\n",
              "      fill: #D2E3FC;\n",
              "    }\n",
              "\n",
              "    [theme=dark] .colab-df-convert:hover {\n",
              "      background-color: #434B5C;\n",
              "      box-shadow: 0px 1px 3px 1px rgba(0, 0, 0, 0.15);\n",
              "      filter: drop-shadow(0px 1px 2px rgba(0, 0, 0, 0.3));\n",
              "      fill: #FFFFFF;\n",
              "    }\n",
              "  </style>\n",
              "\n",
              "    <script>\n",
              "      const buttonEl =\n",
              "        document.querySelector('#df-8d7c02e3-4459-4776-930d-c81aa8bac2de button.colab-df-convert');\n",
              "      buttonEl.style.display =\n",
              "        google.colab.kernel.accessAllowed ? 'block' : 'none';\n",
              "\n",
              "      async function convertToInteractive(key) {\n",
              "        const element = document.querySelector('#df-8d7c02e3-4459-4776-930d-c81aa8bac2de');\n",
              "        const dataTable =\n",
              "          await google.colab.kernel.invokeFunction('convertToInteractive',\n",
              "                                                    [key], {});\n",
              "        if (!dataTable) return;\n",
              "\n",
              "        const docLinkHtml = 'Like what you see? Visit the ' +\n",
              "          '<a target=\"_blank\" href=https://colab.research.google.com/notebooks/data_table.ipynb>data table notebook</a>'\n",
              "          + ' to learn more about interactive tables.';\n",
              "        element.innerHTML = '';\n",
              "        dataTable['output_type'] = 'display_data';\n",
              "        await google.colab.output.renderOutput(dataTable, element);\n",
              "        const docLink = document.createElement('div');\n",
              "        docLink.innerHTML = docLinkHtml;\n",
              "        element.appendChild(docLink);\n",
              "      }\n",
              "    </script>\n",
              "  </div>\n",
              "\n",
              "\n",
              "<div id=\"df-d83ce42a-4950-4fe4-8df1-8db37e852a92\">\n",
              "  <button class=\"colab-df-quickchart\" onclick=\"quickchart('df-d83ce42a-4950-4fe4-8df1-8db37e852a92')\"\n",
              "            title=\"Suggest charts\"\n",
              "            style=\"display:none;\">\n",
              "\n",
              "<svg xmlns=\"http://www.w3.org/2000/svg\" height=\"24px\"viewBox=\"0 0 24 24\"\n",
              "     width=\"24px\">\n",
              "    <g>\n",
              "        <path d=\"M19 3H5c-1.1 0-2 .9-2 2v14c0 1.1.9 2 2 2h14c1.1 0 2-.9 2-2V5c0-1.1-.9-2-2-2zM9 17H7v-7h2v7zm4 0h-2V7h2v10zm4 0h-2v-4h2v4z\"/>\n",
              "    </g>\n",
              "</svg>\n",
              "  </button>\n",
              "\n",
              "<style>\n",
              "  .colab-df-quickchart {\n",
              "      --bg-color: #E8F0FE;\n",
              "      --fill-color: #1967D2;\n",
              "      --hover-bg-color: #E2EBFA;\n",
              "      --hover-fill-color: #174EA6;\n",
              "      --disabled-fill-color: #AAA;\n",
              "      --disabled-bg-color: #DDD;\n",
              "  }\n",
              "\n",
              "  [theme=dark] .colab-df-quickchart {\n",
              "      --bg-color: #3B4455;\n",
              "      --fill-color: #D2E3FC;\n",
              "      --hover-bg-color: #434B5C;\n",
              "      --hover-fill-color: #FFFFFF;\n",
              "      --disabled-bg-color: #3B4455;\n",
              "      --disabled-fill-color: #666;\n",
              "  }\n",
              "\n",
              "  .colab-df-quickchart {\n",
              "    background-color: var(--bg-color);\n",
              "    border: none;\n",
              "    border-radius: 50%;\n",
              "    cursor: pointer;\n",
              "    display: none;\n",
              "    fill: var(--fill-color);\n",
              "    height: 32px;\n",
              "    padding: 0;\n",
              "    width: 32px;\n",
              "  }\n",
              "\n",
              "  .colab-df-quickchart:hover {\n",
              "    background-color: var(--hover-bg-color);\n",
              "    box-shadow: 0 1px 2px rgba(60, 64, 67, 0.3), 0 1px 3px 1px rgba(60, 64, 67, 0.15);\n",
              "    fill: var(--button-hover-fill-color);\n",
              "  }\n",
              "\n",
              "  .colab-df-quickchart-complete:disabled,\n",
              "  .colab-df-quickchart-complete:disabled:hover {\n",
              "    background-color: var(--disabled-bg-color);\n",
              "    fill: var(--disabled-fill-color);\n",
              "    box-shadow: none;\n",
              "  }\n",
              "\n",
              "  .colab-df-spinner {\n",
              "    border: 2px solid var(--fill-color);\n",
              "    border-color: transparent;\n",
              "    border-bottom-color: var(--fill-color);\n",
              "    animation:\n",
              "      spin 1s steps(1) infinite;\n",
              "  }\n",
              "\n",
              "  @keyframes spin {\n",
              "    0% {\n",
              "      border-color: transparent;\n",
              "      border-bottom-color: var(--fill-color);\n",
              "      border-left-color: var(--fill-color);\n",
              "    }\n",
              "    20% {\n",
              "      border-color: transparent;\n",
              "      border-left-color: var(--fill-color);\n",
              "      border-top-color: var(--fill-color);\n",
              "    }\n",
              "    30% {\n",
              "      border-color: transparent;\n",
              "      border-left-color: var(--fill-color);\n",
              "      border-top-color: var(--fill-color);\n",
              "      border-right-color: var(--fill-color);\n",
              "    }\n",
              "    40% {\n",
              "      border-color: transparent;\n",
              "      border-right-color: var(--fill-color);\n",
              "      border-top-color: var(--fill-color);\n",
              "    }\n",
              "    60% {\n",
              "      border-color: transparent;\n",
              "      border-right-color: var(--fill-color);\n",
              "    }\n",
              "    80% {\n",
              "      border-color: transparent;\n",
              "      border-right-color: var(--fill-color);\n",
              "      border-bottom-color: var(--fill-color);\n",
              "    }\n",
              "    90% {\n",
              "      border-color: transparent;\n",
              "      border-bottom-color: var(--fill-color);\n",
              "    }\n",
              "  }\n",
              "</style>\n",
              "\n",
              "  <script>\n",
              "    async function quickchart(key) {\n",
              "      const quickchartButtonEl =\n",
              "        document.querySelector('#' + key + ' button');\n",
              "      quickchartButtonEl.disabled = true;  // To prevent multiple clicks.\n",
              "      quickchartButtonEl.classList.add('colab-df-spinner');\n",
              "      try {\n",
              "        const charts = await google.colab.kernel.invokeFunction(\n",
              "            'suggestCharts', [key], {});\n",
              "      } catch (error) {\n",
              "        console.error('Error during call to suggestCharts:', error);\n",
              "      }\n",
              "      quickchartButtonEl.classList.remove('colab-df-spinner');\n",
              "      quickchartButtonEl.classList.add('colab-df-quickchart-complete');\n",
              "    }\n",
              "    (() => {\n",
              "      let quickchartButtonEl =\n",
              "        document.querySelector('#df-d83ce42a-4950-4fe4-8df1-8db37e852a92 button');\n",
              "      quickchartButtonEl.style.display =\n",
              "        google.colab.kernel.accessAllowed ? 'block' : 'none';\n",
              "    })();\n",
              "  </script>\n",
              "</div>\n",
              "\n",
              "  <div id=\"id_e4f27d92-25c0-461f-a296-5fcf9074cec4\">\n",
              "    <style>\n",
              "      .colab-df-generate {\n",
              "        background-color: #E8F0FE;\n",
              "        border: none;\n",
              "        border-radius: 50%;\n",
              "        cursor: pointer;\n",
              "        display: none;\n",
              "        fill: #1967D2;\n",
              "        height: 32px;\n",
              "        padding: 0 0 0 0;\n",
              "        width: 32px;\n",
              "      }\n",
              "\n",
              "      .colab-df-generate:hover {\n",
              "        background-color: #E2EBFA;\n",
              "        box-shadow: 0px 1px 2px rgba(60, 64, 67, 0.3), 0px 1px 3px 1px rgba(60, 64, 67, 0.15);\n",
              "        fill: #174EA6;\n",
              "      }\n",
              "\n",
              "      [theme=dark] .colab-df-generate {\n",
              "        background-color: #3B4455;\n",
              "        fill: #D2E3FC;\n",
              "      }\n",
              "\n",
              "      [theme=dark] .colab-df-generate:hover {\n",
              "        background-color: #434B5C;\n",
              "        box-shadow: 0px 1px 3px 1px rgba(0, 0, 0, 0.15);\n",
              "        filter: drop-shadow(0px 1px 2px rgba(0, 0, 0, 0.3));\n",
              "        fill: #FFFFFF;\n",
              "      }\n",
              "    </style>\n",
              "    <button class=\"colab-df-generate\" onclick=\"generateWithVariable('table')\"\n",
              "            title=\"Generate code using this dataframe.\"\n",
              "            style=\"display:none;\">\n",
              "\n",
              "  <svg xmlns=\"http://www.w3.org/2000/svg\" height=\"24px\"viewBox=\"0 0 24 24\"\n",
              "       width=\"24px\">\n",
              "    <path d=\"M7,19H8.4L18.45,9,17,7.55,7,17.6ZM5,21V16.75L18.45,3.32a2,2,0,0,1,2.83,0l1.4,1.43a1.91,1.91,0,0,1,.58,1.4,1.91,1.91,0,0,1-.58,1.4L9.25,21ZM18.45,9,17,7.55Zm-12,3A5.31,5.31,0,0,0,4.9,8.1,5.31,5.31,0,0,0,1,6.5,5.31,5.31,0,0,0,4.9,4.9,5.31,5.31,0,0,0,6.5,1,5.31,5.31,0,0,0,8.1,4.9,5.31,5.31,0,0,0,12,6.5,5.46,5.46,0,0,0,6.5,12Z\"/>\n",
              "  </svg>\n",
              "    </button>\n",
              "    <script>\n",
              "      (() => {\n",
              "      const buttonEl =\n",
              "        document.querySelector('#id_e4f27d92-25c0-461f-a296-5fcf9074cec4 button.colab-df-generate');\n",
              "      buttonEl.style.display =\n",
              "        google.colab.kernel.accessAllowed ? 'block' : 'none';\n",
              "\n",
              "      buttonEl.onclick = () => {\n",
              "        google.colab.notebook.generateWithVariable('table');\n",
              "      }\n",
              "      })();\n",
              "    </script>\n",
              "  </div>\n",
              "\n",
              "    </div>\n",
              "  </div>\n"
            ],
            "application/vnd.google.colaboratory.intrinsic+json": {
              "type": "dataframe",
              "variable_name": "table",
              "summary": "{\n  \"name\": \"table\",\n  \"rows\": 8,\n  \"fields\": [\n    {\n      \"column\": \"arithmetic_mean\",\n      \"properties\": {\n        \"dtype\": \"number\",\n        \"std\": 91.74222148046502,\n        \"min\": 0.0,\n        \"max\": 260.0,\n        \"num_unique_values\": 8,\n        \"samples\": [\n          0.40316890769230773,\n          0.2763155,\n          260.0\n        ],\n        \"semantic_type\": \"\",\n        \"description\": \"\"\n      }\n    },\n    {\n      \"column\": \"aqi\",\n      \"properties\": {\n        \"dtype\": \"number\",\n        \"std\": 89.33954580747285,\n        \"min\": 0.0,\n        \"max\": 260.0,\n        \"num_unique_values\": 8,\n        \"samples\": [\n          6.757692307692308,\n          5.0,\n          260.0\n        ],\n        \"semantic_type\": \"\",\n        \"description\": \"\"\n      }\n    }\n  ]\n}"
            }
          },
          "metadata": {},
          "execution_count": 15
        }
      ],
      "source": [
        "# Get descriptive stats.\n",
        "\n",
        "### YOUR CODE HERE\n",
        "table = epa_data.describe()\n",
        "table\n"
      ],
      "id": "13f1c1dd-5637-4726-8fa0-2fbd838e4afa"
    },
    {
      "cell_type": "markdown",
      "metadata": {
        "id": "c25c3da0-e242-4f46-9620-6d7f04911aea",
        "jp-MarkdownHeadingCollapsed": true,
        "tags": []
      },
      "source": [
        "<details>\n",
        "  <summary><h4><strong>Hint 1</strong></h4></summary>\n",
        "\n",
        "Refer to the video about descriptive statistics in Python.\n",
        "\n",
        "</details>"
      ],
      "id": "c25c3da0-e242-4f46-9620-6d7f04911aea"
    },
    {
      "cell_type": "markdown",
      "metadata": {
        "id": "BM8x5LToI-Kn",
        "jp-MarkdownHeadingCollapsed": true,
        "tags": []
      },
      "source": [
        "<details>\n",
        "  <summary><h4><strong>Hint 2</strong></h4></summary>\n",
        "\n",
        "  There is a function in the `pandas` library that allows you to generate a table of basic descriptive statistics about the numeric columns in a DataFrame.\n",
        "\n",
        "</details>"
      ],
      "id": "BM8x5LToI-Kn"
    },
    {
      "cell_type": "markdown",
      "metadata": {
        "id": "TVhhKA-6I-Ko",
        "jp-MarkdownHeadingCollapsed": true,
        "tags": []
      },
      "source": [
        "<details>\n",
        "  <summary><h4><strong>Hint 3</strong></h4></summary>\n",
        "\n",
        "  Use the `describe()` function from the `pandas` library.\n",
        "\n",
        "</details>"
      ],
      "id": "TVhhKA-6I-Ko"
    },
    {
      "cell_type": "markdown",
      "metadata": {
        "id": "a70475eb-d3a6-42e4-8b71-a49b5a1aa0db"
      },
      "source": [
        "**Question:** Based on the table of descriptive statistics, what do you notice about the count value for the `aqi` column?"
      ],
      "id": "a70475eb-d3a6-42e4-8b71-a49b5a1aa0db"
    },
    {
      "cell_type": "markdown",
      "metadata": {
        "id": "ZJddhXIUpCwz"
      },
      "source": [
        "**Based on the descriptive statistics table, the count value for the aqi column is 260, there are no missing values in the aqi column**"
      ],
      "id": "ZJddhXIUpCwz"
    },
    {
      "cell_type": "markdown",
      "metadata": {
        "id": "c7a59d04-61f1-45e5-946f-eaed074988cf"
      },
      "source": [
        "**Question:** What do you notice about the 25th percentile for the `aqi` column?\n",
        "\n",
        "This is an important measure for understanding where the aqi values lie."
      ],
      "id": "c7a59d04-61f1-45e5-946f-eaed074988cf"
    },
    {
      "cell_type": "markdown",
      "metadata": {
        "id": "xhL4Qk7TpDrZ"
      },
      "source": [
        "**The 25th percentile for the aqi column is 2. This means that 25% of the observations have an aqi value of 2 or lower.**"
      ],
      "id": "xhL4Qk7TpDrZ"
    },
    {
      "cell_type": "markdown",
      "metadata": {
        "id": "245a9299-23ea-4def-b968-b26be1da3a74"
      },
      "source": [
        "**Question:** What do you notice about the 75th percentile for the `aqi` column?\n",
        "\n",
        "This is another important measure for understanding where the aqi values lie."
      ],
      "id": "245a9299-23ea-4def-b968-b26be1da3a74"
    },
    {
      "cell_type": "markdown",
      "metadata": {
        "id": "W2SLJkeCpEOj"
      },
      "source": [
        "**The 25th percentile for the aqi column is 9. This means that 25% of the observations have an aqi value of 9 or lower.**"
      ],
      "id": "W2SLJkeCpEOj"
    },
    {
      "cell_type": "markdown",
      "metadata": {
        "id": "ZfvOKy7F7SOA"
      },
      "source": [
        "## **Step 3: Statistical tests**"
      ],
      "id": "ZfvOKy7F7SOA"
    },
    {
      "cell_type": "markdown",
      "metadata": {
        "id": "5464fa18-f969-4e1e-8539-9b2d9a11766d",
        "tags": []
      },
      "source": [
        "Next, get some descriptive statistics about the states in the data."
      ],
      "id": "5464fa18-f969-4e1e-8539-9b2d9a11766d"
    },
    {
      "cell_type": "code",
      "execution_count": null,
      "metadata": {
        "id": "678346a1-bc1a-40be-850a-c03488970604",
        "colab": {
          "base_uri": "https://localhost:8080/",
          "height": 227
        },
        "outputId": "ff83b7c5-6f40-48a7-c669-119aca253cdd"
      },
      "outputs": [
        {
          "output_type": "stream",
          "name": "stdout",
          "text": [
            "Descriptive Statistics for State Names:\n"
          ]
        },
        {
          "output_type": "execute_result",
          "data": {
            "text/plain": [
              "count            260\n",
              "unique            52\n",
              "top       California\n",
              "freq              66\n",
              "Name: state_name, dtype: object"
            ],
            "text/html": [
              "<div>\n",
              "<style scoped>\n",
              "    .dataframe tbody tr th:only-of-type {\n",
              "        vertical-align: middle;\n",
              "    }\n",
              "\n",
              "    .dataframe tbody tr th {\n",
              "        vertical-align: top;\n",
              "    }\n",
              "\n",
              "    .dataframe thead th {\n",
              "        text-align: right;\n",
              "    }\n",
              "</style>\n",
              "<table border=\"1\" class=\"dataframe\">\n",
              "  <thead>\n",
              "    <tr style=\"text-align: right;\">\n",
              "      <th></th>\n",
              "      <th>state_name</th>\n",
              "    </tr>\n",
              "  </thead>\n",
              "  <tbody>\n",
              "    <tr>\n",
              "      <th>count</th>\n",
              "      <td>260</td>\n",
              "    </tr>\n",
              "    <tr>\n",
              "      <th>unique</th>\n",
              "      <td>52</td>\n",
              "    </tr>\n",
              "    <tr>\n",
              "      <th>top</th>\n",
              "      <td>California</td>\n",
              "    </tr>\n",
              "    <tr>\n",
              "      <th>freq</th>\n",
              "      <td>66</td>\n",
              "    </tr>\n",
              "  </tbody>\n",
              "</table>\n",
              "</div><br><label><b>dtype:</b> object</label>"
            ]
          },
          "metadata": {},
          "execution_count": 21
        }
      ],
      "source": [
        "# Get descriptive stats about the states in the data.\n",
        "\n",
        "### YOUR CODE HERE\n",
        "\n",
        "state_stats = epa_data['state_name'].describe()\n",
        "\n",
        "print(\"Descriptive Statistics for State Names:\")\n",
        "state_stats\n"
      ],
      "id": "678346a1-bc1a-40be-850a-c03488970604"
    },
    {
      "cell_type": "markdown",
      "metadata": {
        "id": "mXN8yn5hKneJ",
        "jp-MarkdownHeadingCollapsed": true,
        "tags": []
      },
      "source": [
        "<details>\n",
        "  <summary><h4><strong>Hint 1</strong></h4></summary>\n",
        "\n",
        "Refer to the video about descriptive statistics in Python.\n",
        "\n",
        "</details>"
      ],
      "id": "mXN8yn5hKneJ"
    },
    {
      "cell_type": "markdown",
      "metadata": {
        "id": "NrCBFqf6KneL",
        "jp-MarkdownHeadingCollapsed": true,
        "tags": []
      },
      "source": [
        "<details>\n",
        "  <summary><h4><strong>Hint 2</strong></h4></summary>\n",
        "\n",
        "  There is a function in the `pandas` library that allows you to generate basic descriptive statistics about a DataFrame or a column you are interested in.\n",
        "\n",
        "</details>"
      ],
      "id": "NrCBFqf6KneL"
    },
    {
      "cell_type": "markdown",
      "metadata": {
        "id": "ELA3AlzhKneN",
        "jp-MarkdownHeadingCollapsed": true,
        "tags": []
      },
      "source": [
        "<details>\n",
        "  <summary><h4><strong>Hint 3</strong></h4></summary>\n",
        "\n",
        " Use the `describe()` function from the `pandas` library. Note that this function can be used:\n",
        "- \"on a DataFrame (to find descriptive statistics about the numeric columns)\"\n",
        "- \"directly on a column containing categorical data (to find pertinent descriptive statistics)\"\n",
        "\n",
        "</details>"
      ],
      "id": "ELA3AlzhKneN"
    },
    {
      "cell_type": "markdown",
      "metadata": {
        "id": "d6f10268-bf06-471f-8e6e-41c30a8e3e2a",
        "tags": []
      },
      "source": [
        "**Question:** What do you notice while reviewing the descriptive statistics about the states in the data?\n",
        "\n",
        "Note: Sometimes you have to individually calculate statistics. To review to that approach, use the `numpy` library to calculate each of the main statistics in the preceding table for the `aqi` column."
      ],
      "id": "d6f10268-bf06-471f-8e6e-41c30a8e3e2a"
    },
    {
      "cell_type": "markdown",
      "metadata": {
        "id": "Vbu9rG78pGY1"
      },
      "source": [
        "Certain states, such as California, appear to have a higher frequency of 66 monitoring sites. This could suggest a focus on areas with significant air quality concerns or regulatory requirements."
      ],
      "id": "Vbu9rG78pGY1"
    },
    {
      "cell_type": "markdown",
      "metadata": {
        "id": "ArTZls9y8amg"
      },
      "source": [
        "## **Step 4. Results and evaluation**"
      ],
      "id": "ArTZls9y8amg"
    },
    {
      "cell_type": "markdown",
      "metadata": {
        "id": "8c37014f-2751-4f65-b145-c63aa3a82e9a",
        "tags": []
      },
      "source": [
        "Now, compute the mean value from the `aqi` column."
      ],
      "id": "8c37014f-2751-4f65-b145-c63aa3a82e9a"
    },
    {
      "cell_type": "code",
      "execution_count": null,
      "metadata": {
        "id": "df5f18bc-9d4b-4625-9b6f-01a6323b8b89",
        "colab": {
          "base_uri": "https://localhost:8080/"
        },
        "outputId": "d0fd4868-8ad9-4e85-d671-7e3f0f94a718"
      },
      "outputs": [
        {
          "output_type": "stream",
          "name": "stdout",
          "text": [
            "Mean AQI: 6.757692307692308\n"
          ]
        }
      ],
      "source": [
        "# Compute the mean value from the aqi column.\n",
        "\n",
        "### YOUR CODE HERE\n",
        "aqi_values = epa_data['aqi'].values\n",
        "\n",
        "# Calculate the mean of the 'aqi' values\n",
        "mean_aqi = np.mean(aqi_values)\n",
        "\n",
        "# Print the result\n",
        "print(f\"Mean AQI: {mean_aqi}\")"
      ],
      "id": "df5f18bc-9d4b-4625-9b6f-01a6323b8b89"
    },
    {
      "cell_type": "markdown",
      "metadata": {
        "id": "a2E3VhSkL4QR",
        "jp-MarkdownHeadingCollapsed": true,
        "tags": []
      },
      "source": [
        "<details>\n",
        "  <summary><h4><strong>Hint 1</strong></h4></summary>\n",
        "\n",
        "Refer to the video about descriptive statistics in Python.\n",
        "\n",
        "</details>"
      ],
      "id": "a2E3VhSkL4QR"
    },
    {
      "cell_type": "markdown",
      "metadata": {
        "id": "Cs9IQSfYL4QT",
        "jp-MarkdownHeadingCollapsed": true,
        "tags": []
      },
      "source": [
        "<details>\n",
        "  <summary><h4><strong>Hint 2</strong></h4></summary>\n",
        "\n",
        "  There is a function in the `numpy` library that allows you to get the mean value from an array or a Series of values.\n",
        "\n",
        "</details>"
      ],
      "id": "Cs9IQSfYL4QT"
    },
    {
      "cell_type": "markdown",
      "metadata": {
        "id": "aqewdWRoL4QU",
        "jp-MarkdownHeadingCollapsed": true,
        "tags": []
      },
      "source": [
        "<details>\n",
        "  <summary><h4><strong>Hint 3</strong></h4></summary>\n",
        "\n",
        "  Use the `mean()` function from the `numpy` library.\n",
        "\n",
        "</details>"
      ],
      "id": "aqewdWRoL4QU"
    },
    {
      "cell_type": "markdown",
      "metadata": {
        "id": "4552de4a-70d5-4862-bff8-e08b8a812d98"
      },
      "source": [
        "**Question:** What do you notice about the mean value from the `aqi` column?\n",
        "\n",
        "This is an important measure, as it tells you what the average air quality is based on the data."
      ],
      "id": "4552de4a-70d5-4862-bff8-e08b8a812d98"
    },
    {
      "cell_type": "markdown",
      "metadata": {
        "id": "PV0GCfM9pJqw"
      },
      "source": [
        "**The mean AQI value of 6.76 indicates generally good air quality across the monitored sites in the dataset. This low average suggests that most locations experience minimal carbon monoxide pollution, aligning with health standards for air quality**"
      ],
      "id": "PV0GCfM9pJqw"
    },
    {
      "cell_type": "markdown",
      "metadata": {
        "id": "573d29cd-0ea9-4c96-80ea-c02144a155e9",
        "tags": []
      },
      "source": [
        "Next, compute the median value from the aqi column."
      ],
      "id": "573d29cd-0ea9-4c96-80ea-c02144a155e9"
    },
    {
      "cell_type": "code",
      "execution_count": null,
      "metadata": {
        "id": "12da2095-441f-48f5-b8eb-1c7ae76edc9e",
        "colab": {
          "base_uri": "https://localhost:8080/"
        },
        "outputId": "26603675-49e3-463f-f695-23ba8d8c779a"
      },
      "outputs": [
        {
          "output_type": "stream",
          "name": "stdout",
          "text": [
            "Median AQI:  5.0\n"
          ]
        }
      ],
      "source": [
        "# Compute the median value from the aqi column.\n",
        "\n",
        "### YOUR CODE HERE\n",
        "\n",
        "median_aqi = np.median(aqi_values)\n",
        "\n",
        "print(\"Median AQI: \",median_aqi)"
      ],
      "id": "12da2095-441f-48f5-b8eb-1c7ae76edc9e"
    },
    {
      "cell_type": "markdown",
      "metadata": {
        "id": "ZTaoY4RpM3q7",
        "jp-MarkdownHeadingCollapsed": true,
        "tags": []
      },
      "source": [
        "<details>\n",
        "  <summary><h4><strong>Hint 1</strong></h4></summary>\n",
        "\n",
        "Refer to the video about descriptive statistics in Python.\n",
        "\n",
        "</details>"
      ],
      "id": "ZTaoY4RpM3q7"
    },
    {
      "cell_type": "markdown",
      "metadata": {
        "id": "AuZzoodzM3q9",
        "jp-MarkdownHeadingCollapsed": true,
        "tags": []
      },
      "source": [
        "<details>\n",
        "  <summary><h4><strong>Hint 2</strong></h4></summary>\n",
        "\n",
        "  There is a function in the `numpy` library that allows you to get the median value from an array or a series of values.\n",
        "\n",
        "</details>"
      ],
      "id": "AuZzoodzM3q9"
    },
    {
      "cell_type": "markdown",
      "metadata": {
        "id": "hdeDIF-tM3q_",
        "jp-MarkdownHeadingCollapsed": true,
        "tags": []
      },
      "source": [
        "<details>\n",
        "  <summary><h4><strong>Hint 3</strong></h4></summary>\n",
        "\n",
        "  Use the `median()` function from the `numpy` library.\n",
        "\n",
        "</details>"
      ],
      "id": "hdeDIF-tM3q_"
    },
    {
      "cell_type": "markdown",
      "metadata": {
        "id": "be75aa7d-a91c-4e3b-8eda-e2e3fe89c8d0"
      },
      "source": [
        "**Question:** What do you notice about the median value from the `aqi` column?\n",
        "\n",
        "This is an important measure for understanding the central location of the data."
      ],
      "id": "be75aa7d-a91c-4e3b-8eda-e2e3fe89c8d0"
    },
    {
      "cell_type": "markdown",
      "metadata": {
        "id": "LCW6pR6fpKdR"
      },
      "source": [
        "**The median AQI value of 5.0 indicates that half of the monitored locations have an AQI below this level, reflecting generally good air quality. This central measure suggests that while some sites may experience higher pollution levels, the majority are likely to be in a healthier range, reinforcing the positive trend observed in the mean AQI value. The proximity of the median to the mean also indicates a relatively symmetric distribution of AQI values.**"
      ],
      "id": "LCW6pR6fpKdR"
    },
    {
      "cell_type": "markdown",
      "metadata": {
        "id": "4f8cdeda-be0c-4a18-9a33-0a16c91f08fc",
        "tags": []
      },
      "source": [
        "Next, identify the minimum value from the `aqi` column."
      ],
      "id": "4f8cdeda-be0c-4a18-9a33-0a16c91f08fc"
    },
    {
      "cell_type": "code",
      "execution_count": null,
      "metadata": {
        "id": "bb3f1739-89aa-442a-8ddb-6c2d381243f3",
        "colab": {
          "base_uri": "https://localhost:8080/"
        },
        "outputId": "2db91fd0-d1c4-414b-f260-6687c95cf84a"
      },
      "outputs": [
        {
          "output_type": "stream",
          "name": "stdout",
          "text": [
            "Minimum AQI:  0\n"
          ]
        }
      ],
      "source": [
        "# Identify the minimum value from the aqi column.\n",
        "\n",
        "### YOUR CODE HERE\n",
        "min_aqi = np.min(aqi_values)\n",
        "print(\"Minimum AQI: \",min_aqi)\n"
      ],
      "id": "bb3f1739-89aa-442a-8ddb-6c2d381243f3"
    },
    {
      "cell_type": "markdown",
      "metadata": {
        "id": "qx6thFRiR7Ed",
        "jp-MarkdownHeadingCollapsed": true,
        "tags": []
      },
      "source": [
        "<details>\n",
        "  <summary><h4><strong>Hint 1</strong></h4></summary>\n",
        "\n",
        "Refer to the video about descriptive statistics in Python.\n",
        "\n",
        "</details>"
      ],
      "id": "qx6thFRiR7Ed"
    },
    {
      "cell_type": "markdown",
      "metadata": {
        "id": "vZeWnVMDR7Ee",
        "jp-MarkdownHeadingCollapsed": true,
        "tags": []
      },
      "source": [
        "<details>\n",
        "  <summary><h4><strong>Hint 2</strong></h4></summary>\n",
        "\n",
        "  There is a function in the `numpy` library that allows you to get the minimum value from an array or a Series of values.\n",
        "\n",
        "</details>"
      ],
      "id": "vZeWnVMDR7Ee"
    },
    {
      "cell_type": "markdown",
      "metadata": {
        "id": "RILxi-fPR7Ef",
        "jp-MarkdownHeadingCollapsed": true,
        "tags": []
      },
      "source": [
        "<details>\n",
        "  <summary><h4><strong>Hint 3</strong></h4></summary>\n",
        "\n",
        "  Use the `min()` function from the `numpy` library.\n",
        "\n",
        "</details>"
      ],
      "id": "RILxi-fPR7Ef"
    },
    {
      "cell_type": "markdown",
      "metadata": {
        "id": "59335267-2025-4013-92de-fec720576263"
      },
      "source": [
        "**Question:** What do you notice about the minimum value from the `aqi` column?\n",
        "\n",
        "This is an important measure, as it tell you the best air quality observed in the data."
      ],
      "id": "59335267-2025-4013-92de-fec720576263"
    },
    {
      "cell_type": "markdown",
      "metadata": {
        "id": "0IbKLA8gpLVR"
      },
      "source": [
        "\n",
        "**The minimum AQI value of 0 indicates that the best air quality observed in the dataset is at a level considered excellent. This suggests that there are locations where carbon monoxide levels are negligible, posing no health risks. Such low readings are essential for understanding the potential for clean air zones and can serve as benchmarks for air quality improvement efforts in more polluted areas.**"
      ],
      "id": "0IbKLA8gpLVR"
    },
    {
      "cell_type": "markdown",
      "metadata": {
        "id": "5864cf7b-af15-4cd9-8648-903c882e8e8f",
        "tags": []
      },
      "source": [
        "Now, identify the maximum value from the `aqi` column."
      ],
      "id": "5864cf7b-af15-4cd9-8648-903c882e8e8f"
    },
    {
      "cell_type": "code",
      "execution_count": null,
      "metadata": {
        "id": "ce9670ac-1fb3-48d1-ac92-f04f73ef0e37",
        "colab": {
          "base_uri": "https://localhost:8080/"
        },
        "outputId": "1f72cbfa-e5b8-4989-88ec-3a2f32228e85"
      },
      "outputs": [
        {
          "output_type": "stream",
          "name": "stdout",
          "text": [
            "Maximum AQI: 50\n"
          ]
        }
      ],
      "source": [
        "# Identify the maximum value from the aqi column.\n",
        "\n",
        "### YOUR CODE HERE\n",
        "max_aqi = np.max(aqi_values)\n",
        "print(f\"Maximum AQI: {max_aqi}\")\n"
      ],
      "id": "ce9670ac-1fb3-48d1-ac92-f04f73ef0e37"
    },
    {
      "cell_type": "markdown",
      "metadata": {
        "id": "FUhO3yFeSFXZ",
        "jp-MarkdownHeadingCollapsed": true,
        "tags": []
      },
      "source": [
        "<details>\n",
        "  <summary><h4><strong>Hint 1</strong></h4></summary>\n",
        "\n",
        "Refer to the video about descriptive statistics in Python.\n",
        "\n",
        "</details>"
      ],
      "id": "FUhO3yFeSFXZ"
    },
    {
      "cell_type": "markdown",
      "metadata": {
        "id": "vR475DQfSFXc",
        "jp-MarkdownHeadingCollapsed": true,
        "tags": []
      },
      "source": [
        "<details>\n",
        "  <summary><h4><strong>Hint 2</strong></h4></summary>\n",
        "\n",
        "  There is a function in the `numpy` library that allows you to get the maximum value from an array or a Series of values.\n",
        "\n",
        "</details>"
      ],
      "id": "vR475DQfSFXc"
    },
    {
      "cell_type": "markdown",
      "metadata": {
        "id": "a7eDQB8_SFXe",
        "jp-MarkdownHeadingCollapsed": true,
        "tags": []
      },
      "source": [
        "<details>\n",
        "  <summary><h4><strong>Hint 3</strong></h4></summary>\n",
        "\n",
        "  Use the `max()` function from the `numpy` library.\n",
        "\n",
        "</details>"
      ],
      "id": "a7eDQB8_SFXe"
    },
    {
      "cell_type": "markdown",
      "metadata": {
        "id": "b66e1d7d-a90e-4aff-b8da-3725c4f15c26"
      },
      "source": [
        "**Question:** What do you notice about the maximum value from the `aqi` column?\n",
        "\n",
        "This is an important measure, as it tells you which value in the data corresponds to the worst air quality observed in the data."
      ],
      "id": "b66e1d7d-a90e-4aff-b8da-3725c4f15c26"
    },
    {
      "cell_type": "markdown",
      "metadata": {
        "id": "_BOdBpYupMNh"
      },
      "source": [
        "**The maximum AQI value of 50 indicates the worst air quality observed in the dataset. This level falls into the \"Moderate\" category, suggesting that while the air quality is generally acceptable, there may be concerns for some individuals, particularly those who are sensitive to air pollution. This maximum reading highlights the need for ongoing monitoring and potential interventions in areas experiencing higher pollution levels.**"
      ],
      "id": "_BOdBpYupMNh"
    },
    {
      "cell_type": "markdown",
      "metadata": {
        "id": "0f2b502c-55bd-4567-b602-129d5b682ea4",
        "tags": []
      },
      "source": [
        "Now, compute the standard deviation for the `aqi` column.\n",
        "\n",
        "By default, the `numpy` library uses 0 as the Delta Degrees of Freedom, while `pandas` library uses 1. To get the same value for standard deviation using either library, specify the `ddof` parameter to 1 when calculating standard deviation."
      ],
      "id": "0f2b502c-55bd-4567-b602-129d5b682ea4"
    },
    {
      "cell_type": "code",
      "execution_count": null,
      "metadata": {
        "id": "4caba3ad-6e7c-416a-a062-39a6af9f1f00",
        "colab": {
          "base_uri": "https://localhost:8080/"
        },
        "outputId": "b38bf4ea-1e58-4687-eef3-d00408ad6121"
      },
      "outputs": [
        {
          "output_type": "stream",
          "name": "stdout",
          "text": [
            "Standard Deviation of AQI: 7.061706678820724\n"
          ]
        }
      ],
      "source": [
        "# Compute the standard deviation for the aqi column.\n",
        "\n",
        "### YOUR CODE HERE\n",
        "std_aqi = np.std(aqi_values, ddof=1)\n",
        "\n",
        "\n",
        "print(f\"Standard Deviation of AQI: {std_aqi}\")"
      ],
      "id": "4caba3ad-6e7c-416a-a062-39a6af9f1f00"
    },
    {
      "cell_type": "markdown",
      "metadata": {
        "id": "dZTFWnOTSNbA",
        "jp-MarkdownHeadingCollapsed": true,
        "tags": []
      },
      "source": [
        "<details>\n",
        "  <summary><h4><strong>Hint 1</strong></h4></summary>\n",
        "\n",
        "Refer to the video section about descriptive statistics in Python.\n",
        "\n",
        "</details>"
      ],
      "id": "dZTFWnOTSNbA"
    },
    {
      "cell_type": "markdown",
      "metadata": {
        "id": "ps6bHHn_SNbC",
        "jp-MarkdownHeadingCollapsed": true,
        "tags": []
      },
      "source": [
        "<details>\n",
        "  <summary><h4><strong>Hint 2</strong></h4></summary>\n",
        "\n",
        "  There is a function in the `numpy` library that allows you to get the standard deviation from an array or a series of values.\n",
        "\n",
        "</details>"
      ],
      "id": "ps6bHHn_SNbC"
    },
    {
      "cell_type": "markdown",
      "metadata": {
        "id": "FI09MR1ZSNbD",
        "jp-MarkdownHeadingCollapsed": true,
        "tags": []
      },
      "source": [
        "<details>\n",
        "  <summary><h4><strong>Hint 3</strong></h4></summary>\n",
        "\n",
        "Use the `std()` function from the `numpy` library. Make sure to specify the `ddof` parameter as 1. To read more about this function,  refer to its documentation in the references section of this lab.\n",
        "\n",
        "</details>"
      ],
      "id": "FI09MR1ZSNbD"
    },
    {
      "cell_type": "markdown",
      "metadata": {
        "id": "890f18c1-97cc-4e92-8860-1e4ce3213e2e"
      },
      "source": [
        "**Question:** What do you notice about the standard deviation for the `aqi` column?\n",
        "\n",
        "This is an important measure of how spread out the aqi values are."
      ],
      "id": "890f18c1-97cc-4e92-8860-1e4ce3213e2e"
    },
    {
      "cell_type": "markdown",
      "metadata": {
        "id": "FWASCwOQZsgP"
      },
      "source": [
        "**The standard deviation of 7.06 for the AQI column indicates a moderate level of variability in air quality across the monitored sites. This suggests that while many locations experience low AQI values, there are also some that report significantly higher values, contributing to the spread. Such variability is crucial for understanding the differences in air quality, as it highlights areas that may require more attention or intervention to improve air pollution levels.**"
      ],
      "id": "FWASCwOQZsgP"
    },
    {
      "cell_type": "markdown",
      "metadata": {
        "id": "c77e7f0f-d2b9-4464-8a7c-9575d1e1ef9f"
      },
      "source": [
        "## **Considerations**\n"
      ],
      "id": "c77e7f0f-d2b9-4464-8a7c-9575d1e1ef9f"
    },
    {
      "cell_type": "markdown",
      "metadata": {
        "id": "eptkD7BmYw0h"
      },
      "source": [
        "**What are some key takeaways that you learned during this lab?**"
      ],
      "id": "eptkD7BmYw0h"
    },
    {
      "cell_type": "markdown",
      "metadata": {
        "id": "LmFmOwT7Yzlw"
      },
      "source": [
        "\n",
        "\n",
        "1.  **Understanding Descriptive Statistics**: The lab provided a comprehensive overview of how to compute and interpret descriptive statistics, including mean, median, minimum, maximum, and standard deviation for the AQI values. These metrics are essential for summarizing data and identifying trends in air quality.\n",
        "2.  **Data Variability:** The analysis revealed a moderate standard deviation in AQI values, indicating variability in air quality across different locations. This highlights the importance of continuous monitoring and targeted interventions in areas with poorer air quality.\n",
        "3. Air Quality Insights: The minimum AQI value of 0 and maximum of 50 suggest that while many locations experience good air quality, there are still areas where pollution levels can reach moderate levels that may affect sensitive populations.\n",
        "\n",
        "4. Geographic Distribution: The dataset reflects a diverse geographic representation of air quality data across various states, emphasizing the need for localized strategies to address air pollution.\n",
        "\n",
        "5. **Compute Statistics Using NumPy**: The NumPy library allows for quick calculations using built-in functions that handle arrays efficiently.A few lines of code can yield comprehensive statistics, making it easy to analyze data without extensive boilerplate code.Use NumPy functions to compute the mean, median, standard deviation, minimum, and maximum values."
      ],
      "id": "LmFmOwT7Yzlw"
    },
    {
      "cell_type": "markdown",
      "metadata": {
        "id": "P_B0fXmoYz_g"
      },
      "source": [
        "**How would you present your findings from this lab to others? Consider the following relevant points noted by AirNow.gov as you respond:**\n",
        "- \"AQI values at or below 100 are generally thought of as satisfactory. When AQI values are above 100, air quality is considered to be unhealthy—at first for certain sensitive groups of people, then for everyone as AQI values increase.\"\n",
        "- \"An AQI of 100 for carbon monoxide corresponds to a level of 9.4 parts per million.\""
      ],
      "id": "P_B0fXmoYz_g"
    },
    {
      "cell_type": "markdown",
      "metadata": {
        "id": "gfnZAHZ4Y7a_"
      },
      "source": [
        "# Presentation of Findings\n",
        "\n",
        "\n",
        "\n",
        "1.   Overview of AQI Data:\n",
        "*   The dataset includes air quality measurements from over 200 monitoring sites across various states, specifically focusing on carbon monoxide levels.\n",
        "2.   Key Statistics:\n",
        "* Mean AQI: 6.76, indicating generally good air quality.\n",
        "* Median AQI: 5.0, suggesting that half of the locations have AQI values below this level.\n",
        "* Minimum AQI: 0, representing the best air quality observed.\n",
        "* Maximum AQI: 50, which falls into the \"Moderate\" category, indicating potential health concerns for sensitive groups.\n",
        "* Standard Deviation: 7.06, reflecting moderate variability in air quality across different locations.\n",
        "\n",
        "3. Health Implications:\n",
        "* According to AirNow.gov, AQI values at or below 100 are satisfactory. Our findings show that most monitored sites are well within this range, with only a few reaching levels that could be considered unhealthy, particularly for sensitive populations.\n",
        "\n",
        "4. Carbon Monoxide Levels:\n",
        "* An AQI of 100 corresponds to a carbon monoxide level of 9.4.  parts per million (ppm). The maximum recorded AQI of 50 suggests that carbon monoxide levels remain significantly below this threshold, indicating a lower\n",
        "risk for adverse health effects.\n",
        "\n",
        "5. Conclusion and Recommendations:\n",
        "* Overall, the data suggests that air quality is generally good across the monitored sites, but continuous monitoring is essential to address any spikes in pollution levels promptly.\n",
        "It is recommended to focus on areas with higher AQI readings to ensure public health safety and to implement strategies for reducing carbon monoxide emissions.\n"
      ],
      "id": "gfnZAHZ4Y7a_"
    },
    {
      "cell_type": "markdown",
      "metadata": {
        "id": "B9NTCauFY7xU"
      },
      "source": [
        "**What summary would you provide to stakeholders? Use the same information provided previously from AirNow.gov as you respond.**"
      ],
      "id": "B9NTCauFY7xU"
    },
    {
      "cell_type": "markdown",
      "metadata": {
        "id": "BO_KrnISY9ts"
      },
      "source": [
        "### Summary for Stakeholders\n",
        "\n",
        "The analysis of air quality data focused on carbon monoxide levels across various states has yielded several key insights:\n",
        "\n",
        "1. **Overall Air Quality**: The mean AQI value is **6.76**, and the median is **5.0**, indicating that air quality is generally good across the monitored sites. The minimum AQI recorded is **0**, reflecting instances of excellent air quality.\n",
        "\n",
        "2. **Variability in Air Quality**: While the maximum AQI value is **50**, which falls into the \"Moderate\" category, this suggests that there are locations where air quality could pose health risks, particularly for sensitive groups.\n",
        "\n",
        "3. **Health Implications**: According to AirNow.gov, AQI values at or below **100** are considered satisfactory. Our findings confirm that most monitored sites remain well within this range, with only a few instances of higher values that may affect vulnerable populations.\n",
        "\n",
        "4. **Carbon Monoxide Levels**: An AQI of **100** corresponds to a carbon monoxide level of **9.4 parts per million (ppm)**. The maximum AQI of **50** indicates that carbon monoxide levels are significantly lower than this threshold, suggesting a lower risk for adverse health effects.\n",
        "\n",
        "5. **Recommendations**: Continuous monitoring is essential to maintain air quality standards and address any spikes in pollution levels promptly. Targeted interventions may be necessary in regions experiencing higher AQI readings to protect public health.\n",
        "\n",
        "This summary provides a clear understanding of the current state of air quality concerning carbon monoxide and highlights areas for potential action to ensure ongoing public health safety.\n",
        "\n",
        "\n",
        "\n"
      ],
      "id": "BO_KrnISY9ts"
    },
    {
      "cell_type": "markdown",
      "metadata": {
        "id": "OPcCpjDLuHaW"
      },
      "source": [
        "**References**\n",
        "\n",
        "[Air Quality Index - A Guide to Air Quality and Your Health](https://www.airnow.gov/sites/default/files/2018-04/aqi_brochure_02_14_0.pdf). (2014,February)\n",
        "\n",
        "[Numpy.Std — NumPy v1.23 Manual](https://numpy.org/doc/stable/reference/generated/numpy.std.html)\n",
        "\n",
        "US EPA, OAR. (2014, 8 July).[*Air Data: Air Quality Data Collected at Outdoor Monitors Across the US*](https://www.epa.gov/outdoor-air-quality-data)."
      ],
      "id": "OPcCpjDLuHaW"
    },
    {
      "cell_type": "markdown",
      "metadata": {
        "id": "KRera45Ire1m"
      },
      "source": [
        "**Congratulations!** You've completed this lab. However, you may not notice a green check mark next to this item on Coursera's platform. Please continue your progress regardless of the check mark. Just click on the \"save\" icon at the top of this notebook to ensure your work has been logged."
      ],
      "id": "KRera45Ire1m"
    }
  ],
  "metadata": {
    "colab": {
      "collapsed_sections": [
        "68dc9b73-8944-4dd6-b2f8-6879717a7dab",
        "a70475eb-d3a6-42e4-8b71-a49b5a1aa0db",
        "c7a59d04-61f1-45e5-946f-eaed074988cf",
        "4552de4a-70d5-4862-bff8-e08b8a812d98",
        "be75aa7d-a91c-4e3b-8eda-e2e3fe89c8d0",
        "59335267-2025-4013-92de-fec720576263",
        "b66e1d7d-a90e-4aff-b8da-3725c4f15c26"
      ],
      "provenance": [],
      "include_colab_link": true
    },
    "kernelspec": {
      "display_name": "Python 3",
      "language": "python",
      "name": "python3"
    },
    "language_info": {
      "codemirror_mode": {
        "name": "ipython",
        "version": 3
      },
      "file_extension": ".py",
      "mimetype": "text/x-python",
      "name": "python",
      "nbconvert_exporter": "python",
      "pygments_lexer": "ipython3",
      "version": "3.7.6"
    },
    "toc-autonumbering": false,
    "toc-showtags": false
  },
  "nbformat": 4,
  "nbformat_minor": 5
}